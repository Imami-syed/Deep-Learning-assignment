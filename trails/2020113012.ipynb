{
 "cells": [
  {
   "cell_type": "markdown",
   "id": "6f68d305",
   "metadata": {},
   "source": [
    "loading data from Data.rar file "
   ]
  },
  {
   "cell_type": "code",
   "execution_count": 2,
   "id": "9d94a1e3",
   "metadata": {},
   "outputs": [
    {
     "name": "stdout",
     "output_type": "stream",
     "text": [
      "Using matplotlib backend: QtAgg\n",
      "%pylab is deprecated, use %matplotlib inline and import the required libraries.\n",
      "Populating the interactive namespace from numpy and matplotlib\n"
     ]
    }
   ],
   "source": [
    "%pylab\n",
    "import matplotlib.pyplot as plt\n",
    "import numpy as np\n",
    "import tensorflow as tf\n",
    "from tensorflow.keras import layers\n",
    "from tensorflow.keras.preprocessing.image import ImageDataGenerator\n",
    "import pandas as pd\n",
    "import numpy as np\n",
    "import seaborn as sns\n",
    "import matplotlib.pyplot as plt\n",
    "import matplotlib.image as img\n",
    "%matplotlib inline\n",
    "from sklearn.model_selection import train_test_split\n",
    "from sklearn.metrics import confusion_matrix\n",
    "import itertools"
   ]
  },
  {
   "cell_type": "code",
   "execution_count": 3,
   "id": "5d02ff5d",
   "metadata": {},
   "outputs": [],
   "source": [
    "train_data1=np.load('data0.npy')\n",
    "lab_data1=np.load('lab0.npy')"
   ]
  },
  {
   "cell_type": "code",
   "execution_count": 4,
   "id": "c7170e83",
   "metadata": {},
   "outputs": [
    {
     "name": "stdout",
     "output_type": "stream",
     "text": [
      "16\n"
     ]
    },
    {
     "data": {
      "image/png": "[encoded data removed]",
      "text/plain": [
       "<Figure size 432x288 with 1 Axes>"
      ]
     },
     "metadata": {
      "needs_background": "light"
     },
     "output_type": "display_data"
    }
   ],
   "source": [
    "i=9997\n",
    "#plt.plot(train_data1[i])\n",
    "imshow(train_data1[i])\n",
    "print(lab_data1[i])"
   ]
  },
  {
   "cell_type": "code",
   "execution_count": 5,
   "id": "f898a1b4",
   "metadata": {},
   "outputs": [
    {
     "name": "stdout",
     "output_type": "stream",
     "text": [
      "(40, 168)\n"
     ]
    }
   ],
   "source": [
    "print(train_data1[0].shape)"
   ]
  },
  {
   "cell_type": "code",
   "execution_count": 6,
   "id": "cddd4ac0",
   "metadata": {},
   "outputs": [],
   "source": [
    "X_train, X_test, y_train, y_test = train_test_split(train_data1, lab_data1, test_size=0.33)\n"
   ]
  },
  {
   "cell_type": "code",
   "execution_count": 7,
   "id": "1a4f7e06",
   "metadata": {},
   "outputs": [
    {
     "name": "stdout",
     "output_type": "stream",
     "text": [
      "(6700, 40, 168) (3300, 40, 168)\n"
     ]
    }
   ],
   "source": [
    "print(X_train.shape, X_test.shape)"
   ]
  },
  {
   "cell_type": "code",
   "execution_count": 8,
   "id": "0847350c",
   "metadata": {},
   "outputs": [],
   "source": [
    "X_train = X_train.astype('float32')/255\n",
    "X_test = X_test.astype('float32')/255"
   ]
  },
  {
   "cell_type": "code",
   "execution_count": 10,
   "id": "d8f471b9",
   "metadata": {},
   "outputs": [],
   "source": [
    "model=tf.keras.Sequential()"
   ]
  },
  {
   "cell_type": "code",
   "execution_count": 11,
   "id": "b46e874f",
   "metadata": {},
   "outputs": [
    {
     "name": "stdout",
     "output_type": "stream",
     "text": [
      "Model: \"sequential_1\"\n",
      "_________________________________________________________________\n",
      " Layer (type)                Output Shape              Param #   \n",
      "=================================================================\n",
      " conv2d (Conv2D)             (None, 40, 168, 64)       320       \n",
      "                                                                 \n",
      " max_pooling2d (MaxPooling2D  (None, 20, 84, 64)       0         \n",
      " )                                                               \n",
      "                                                                 \n",
      " dropout (Dropout)           (None, 20, 84, 64)        0         \n",
      "                                                                 \n",
      " conv2d_1 (Conv2D)           (None, 20, 84, 32)        8224      \n",
      "                                                                 \n",
      " max_pooling2d_1 (MaxPooling  (None, 10, 42, 32)       0         \n",
      " 2D)                                                             \n",
      "                                                                 \n",
      " dropout_1 (Dropout)         (None, 10, 42, 32)        0         \n",
      "                                                                 \n",
      " conv2d_2 (Conv2D)           (None, 10, 42, 32)        4128      \n",
      "                                                                 \n",
      " max_pooling2d_2 (MaxPooling  (None, 5, 21, 32)        0         \n",
      " 2D)                                                             \n",
      "                                                                 \n",
      " dropout_2 (Dropout)         (None, 5, 21, 32)         0         \n",
      "                                                                 \n",
      " flatten (Flatten)           (None, 3360)              0         \n",
      "                                                                 \n",
      " dense (Dense)               (None, 256)               860416    \n",
      "                                                                 \n",
      " dropout_3 (Dropout)         (None, 256)               0         \n",
      "                                                                 \n",
      " dense_1 (Dense)             (None, 37)                9509      \n",
      "                                                                 \n",
      "=================================================================\n",
      "Total params: 882,597\n",
      "Trainable params: 882,597\n",
      "Non-trainable params: 0\n",
      "_________________________________________________________________\n"
     ]
    }
   ],
   "source": [
    "model.add(tf.keras.layers.Conv2D(filters=64, kernel_size=(2,2),strides=(1, 1), padding='same', activation='relu', input_shape=(40,168,1))) \n",
    "model.add(tf.keras.layers.MaxPooling2D(pool_size=(2,2)))\n",
    "model.add(tf.keras.layers.Dropout(0.3))\n",
    "model.add(tf.keras.layers.Conv2D(filters=32, kernel_size=(2,2),strides=(1, 1), padding='same', activation='relu'))\n",
    "model.add(tf.keras.layers.MaxPooling2D(pool_size=(2,2)))\n",
    "model.add(tf.keras.layers.Dropout(0.3))\n",
    "model.add(tf.keras.layers.Conv2D(filters=32, kernel_size=(2,2),strides=(1, 1), padding='same', activation='relu'))\n",
    "model.add(tf.keras.layers.MaxPooling2D(pool_size=(2,2)))\n",
    "model.add(tf.keras.layers.Dropout(0.3))\n",
    "model.add(tf.keras.layers.Flatten())\n",
    "model.add(tf.keras.layers.Dense(256, activation='relu'))\n",
    "model.add(tf.keras.layers.Dropout(0.5))\n",
    "model.add(tf.keras.layers.Dense(37, activation='softmax'))\n",
    "model.summary()"
   ]
  },
  {
   "cell_type": "code",
   "execution_count": 12,
   "id": "d274d26e",
   "metadata": {},
   "outputs": [],
   "source": [
    "model.compile(loss='sparse_categorical_crossentropy',\n",
    "             optimizer='adam',\n",
    "             metrics=['accuracy'])\n"
   ]
  },
  {
   "cell_type": "code",
   "execution_count": 13,
   "id": "f74ed05e",
   "metadata": {},
   "outputs": [],
   "source": [
    "X_train = X_train.reshape(-1,40,168,1)\n",
    "X_test = X_test.reshape(-1,40, 168, 1)"
   ]
  },
  {
   "cell_type": "code",
   "execution_count": 14,
   "id": "af9bd788",
   "metadata": {},
   "outputs": [
    {
     "name": "stdout",
     "output_type": "stream",
     "text": [
      "Epoch 1/50\n",
      "94/94 [==============================] - 6s 54ms/step - loss: 3.3038 - accuracy: 0.0563 - val_loss: 3.2865 - val_accuracy: 0.0507\n",
      "Epoch 2/50\n",
      "94/94 [==============================] - 5s 52ms/step - loss: 3.2114 - accuracy: 0.0610 - val_loss: 3.2807 - val_accuracy: 0.0587\n",
      "Epoch 3/50\n",
      "94/94 [==============================] - 5s 53ms/step - loss: 3.1920 - accuracy: 0.0676 - val_loss: 3.2378 - val_accuracy: 0.0547\n",
      "Epoch 4/50\n",
      "94/94 [==============================] - 5s 53ms/step - loss: 3.1770 - accuracy: 0.0723 - val_loss: 3.2398 - val_accuracy: 0.0612\n",
      "Epoch 5/50\n",
      "94/94 [==============================] - 5s 54ms/step - loss: 3.1497 - accuracy: 0.0853 - val_loss: 3.1941 - val_accuracy: 0.0682\n",
      "Epoch 6/50\n",
      "94/94 [==============================] - 5s 54ms/step - loss: 3.1256 - accuracy: 0.0953 - val_loss: 3.2206 - val_accuracy: 0.0662\n",
      "Epoch 7/50\n",
      "94/94 [==============================] - 5s 54ms/step - loss: 3.0923 - accuracy: 0.1000 - val_loss: 3.2183 - val_accuracy: 0.0632\n",
      "Epoch 8/50\n",
      "94/94 [==============================] - 5s 54ms/step - loss: 3.0414 - accuracy: 0.1072 - val_loss: 3.1933 - val_accuracy: 0.0617\n",
      "Epoch 9/50\n",
      "94/94 [==============================] - 5s 54ms/step - loss: 2.9840 - accuracy: 0.1294 - val_loss: 3.1941 - val_accuracy: 0.0692\n",
      "Epoch 10/50\n",
      "94/94 [==============================] - 5s 54ms/step - loss: 2.9210 - accuracy: 0.1435 - val_loss: 3.1880 - val_accuracy: 0.0637\n",
      "Epoch 11/50\n",
      "94/94 [==============================] - 5s 54ms/step - loss: 2.8263 - accuracy: 0.1642 - val_loss: 3.1922 - val_accuracy: 0.0672\n",
      "Epoch 12/50\n",
      "94/94 [==============================] - 5s 54ms/step - loss: 2.7507 - accuracy: 0.1936 - val_loss: 3.1874 - val_accuracy: 0.0627\n",
      "Epoch 13/50\n",
      "94/94 [==============================] - 5s 54ms/step - loss: 2.6199 - accuracy: 0.2313 - val_loss: 3.2063 - val_accuracy: 0.0711\n",
      "Epoch 14/50\n",
      "94/94 [==============================] - 5s 54ms/step - loss: 2.5333 - accuracy: 0.2501 - val_loss: 3.2151 - val_accuracy: 0.0701\n",
      "Epoch 15/50\n",
      "94/94 [==============================] - 5s 55ms/step - loss: 2.4153 - accuracy: 0.2629 - val_loss: 3.2576 - val_accuracy: 0.0612\n",
      "Epoch 16/50\n",
      "94/94 [==============================] - 5s 53ms/step - loss: 2.2846 - accuracy: 0.3081 - val_loss: 3.3174 - val_accuracy: 0.0657\n",
      "Epoch 17/50\n",
      "94/94 [==============================] - 5s 54ms/step - loss: 2.1841 - accuracy: 0.3273 - val_loss: 3.3698 - val_accuracy: 0.0682\n",
      "Epoch 18/50\n",
      "94/94 [==============================] - 5s 54ms/step - loss: 2.0852 - accuracy: 0.3682 - val_loss: 3.3789 - val_accuracy: 0.0647\n",
      "Epoch 19/50\n",
      "94/94 [==============================] - 5s 55ms/step - loss: 1.9751 - accuracy: 0.3994 - val_loss: 3.4414 - val_accuracy: 0.0697\n",
      "Epoch 20/50\n",
      "94/94 [==============================] - 5s 54ms/step - loss: 1.8861 - accuracy: 0.4132 - val_loss: 3.4969 - val_accuracy: 0.0682\n",
      "Epoch 21/50\n",
      "94/94 [==============================] - 5s 54ms/step - loss: 1.7982 - accuracy: 0.4463 - val_loss: 3.5457 - val_accuracy: 0.0647\n",
      "Epoch 22/50\n",
      "94/94 [==============================] - 5s 55ms/step - loss: 1.7110 - accuracy: 0.4674 - val_loss: 3.5849 - val_accuracy: 0.0642\n",
      "Epoch 23/50\n",
      "94/94 [==============================] - 5s 55ms/step - loss: 1.6724 - accuracy: 0.4800 - val_loss: 3.5509 - val_accuracy: 0.0711\n",
      "Epoch 24/50\n",
      "94/94 [==============================] - 5s 54ms/step - loss: 1.5915 - accuracy: 0.5038 - val_loss: 3.6606 - val_accuracy: 0.0662\n",
      "Epoch 25/50\n",
      "94/94 [==============================] - 5s 55ms/step - loss: 1.5409 - accuracy: 0.5205 - val_loss: 3.6115 - val_accuracy: 0.0637\n",
      "Epoch 26/50\n",
      "94/94 [==============================] - 5s 55ms/step - loss: 1.5110 - accuracy: 0.5262 - val_loss: 3.6877 - val_accuracy: 0.0602\n",
      "Epoch 27/50\n",
      "94/94 [==============================] - 5s 54ms/step - loss: 1.4000 - accuracy: 0.5578 - val_loss: 3.8367 - val_accuracy: 0.0672\n",
      "Epoch 28/50\n",
      "94/94 [==============================] - 5s 54ms/step - loss: 1.3986 - accuracy: 0.5623 - val_loss: 3.7773 - val_accuracy: 0.0692\n",
      "Epoch 29/50\n",
      "94/94 [==============================] - 5s 54ms/step - loss: 1.3169 - accuracy: 0.5791 - val_loss: 3.8352 - val_accuracy: 0.0677\n",
      "Epoch 30/50\n",
      "94/94 [==============================] - 5s 54ms/step - loss: 1.2746 - accuracy: 0.5953 - val_loss: 3.8383 - val_accuracy: 0.0692\n",
      "Epoch 31/50\n",
      "94/94 [==============================] - 5s 54ms/step - loss: 1.2277 - accuracy: 0.6145 - val_loss: 3.8720 - val_accuracy: 0.0662\n",
      "Epoch 32/50\n",
      "94/94 [==============================] - 5s 54ms/step - loss: 1.2075 - accuracy: 0.6087 - val_loss: 4.0437 - val_accuracy: 0.0637\n",
      "Epoch 33/50\n",
      "94/94 [==============================] - 5s 54ms/step - loss: 1.1689 - accuracy: 0.6262 - val_loss: 4.0368 - val_accuracy: 0.0672\n",
      "Epoch 34/50\n",
      "94/94 [==============================] - 5s 55ms/step - loss: 1.1062 - accuracy: 0.6399 - val_loss: 4.1049 - val_accuracy: 0.0687\n",
      "Epoch 35/50\n",
      "94/94 [==============================] - 5s 55ms/step - loss: 1.1143 - accuracy: 0.6454 - val_loss: 3.9835 - val_accuracy: 0.0741\n",
      "Epoch 36/50\n",
      "94/94 [==============================] - 5s 55ms/step - loss: 1.0537 - accuracy: 0.6599 - val_loss: 4.0473 - val_accuracy: 0.0667\n",
      "Epoch 37/50\n",
      "94/94 [==============================] - 5s 54ms/step - loss: 1.0688 - accuracy: 0.6595 - val_loss: 4.1775 - val_accuracy: 0.0697\n",
      "Epoch 38/50\n",
      "94/94 [==============================] - 5s 54ms/step - loss: 1.0062 - accuracy: 0.6812 - val_loss: 4.2151 - val_accuracy: 0.0672\n",
      "Epoch 39/50\n",
      "94/94 [==============================] - 5s 54ms/step - loss: 1.0209 - accuracy: 0.6674 - val_loss: 4.1385 - val_accuracy: 0.0657\n",
      "Epoch 40/50\n",
      "94/94 [==============================] - 5s 54ms/step - loss: 0.9874 - accuracy: 0.6808 - val_loss: 4.1982 - val_accuracy: 0.0662\n",
      "Epoch 41/50\n",
      "94/94 [==============================] - 5s 54ms/step - loss: 0.9599 - accuracy: 0.6829 - val_loss: 4.2140 - val_accuracy: 0.0697\n",
      "Epoch 42/50\n",
      "94/94 [==============================] - 5s 54ms/step - loss: 0.9423 - accuracy: 0.6964 - val_loss: 4.2827 - val_accuracy: 0.0587\n",
      "Epoch 43/50\n",
      "94/94 [==============================] - 5s 54ms/step - loss: 0.9349 - accuracy: 0.7004 - val_loss: 4.2861 - val_accuracy: 0.0582\n",
      "Epoch 44/50\n",
      "94/94 [==============================] - 5s 54ms/step - loss: 0.9129 - accuracy: 0.7026 - val_loss: 4.3835 - val_accuracy: 0.0572\n",
      "Epoch 45/50\n",
      "94/94 [==============================] - 5s 54ms/step - loss: 0.8877 - accuracy: 0.7113 - val_loss: 4.3506 - val_accuracy: 0.0567\n",
      "Epoch 46/50\n",
      "94/94 [==============================] - 5s 55ms/step - loss: 0.8856 - accuracy: 0.7177 - val_loss: 4.3439 - val_accuracy: 0.0557\n",
      "Epoch 47/50\n",
      "94/94 [==============================] - 5s 54ms/step - loss: 0.8678 - accuracy: 0.7181 - val_loss: 4.3524 - val_accuracy: 0.0542\n",
      "Epoch 48/50\n",
      "94/94 [==============================] - 5s 54ms/step - loss: 0.8591 - accuracy: 0.7309 - val_loss: 4.4140 - val_accuracy: 0.0612\n",
      "Epoch 49/50\n",
      "94/94 [==============================] - 5s 55ms/step - loss: 0.8542 - accuracy: 0.7196 - val_loss: 4.3609 - val_accuracy: 0.0652\n",
      "Epoch 50/50\n",
      "94/94 [==============================] - 5s 54ms/step - loss: 0.7920 - accuracy: 0.7420 - val_loss: 4.6324 - val_accuracy: 0.0617\n"
     ]
    }
   ],
   "source": [
    "model_log=model.fit(X_train, y_train,\n",
    "          batch_size=50,\n",
    "          epochs=50,\n",
    "          verbose=1,\n",
    "          validation_split=.3)"
   ]
  },
  {
   "cell_type": "code",
   "execution_count": null,
   "id": "cb56c770",
   "metadata": {},
   "outputs": [],
   "source": [
    "score = model.evaluate(X_test, y_test, verbose=0)\n",
    "# Print test accuracy\n",
    "print('\\n', 'Test accuracy:', score[1])"
   ]
  },
  {
   "cell_type": "code",
   "execution_count": null,
   "id": "361689be",
   "metadata": {},
   "outputs": [],
   "source": [
    "predictions = model.predict(X_test)\n",
    "predictions[0]"
   ]
  },
  {
   "cell_type": "code",
   "execution_count": null,
   "id": "773f301b",
   "metadata": {},
   "outputs": [],
   "source": [
    "np.argmax(predictions[0])"
   ]
  },
  {
   "cell_type": "code",
   "execution_count": null,
   "id": "a6c7230d",
   "metadata": {},
   "outputs": [],
   "source": [
    "X_test = X_test.reshape(-1,40, 168)\n",
    "X_test.shape"
   ]
  },
  {
   "cell_type": "code",
   "execution_count": null,
   "id": "8c466e46",
   "metadata": {},
   "outputs": [],
   "source": [
    "plt.xticks([])\n",
    "plt.yticks([])\n",
    "plt.xlabel([y_train[0]])\n",
    "plt.imshow(X_test[0],cmap=plt.cm.binary)"
   ]
  },
  {
   "cell_type": "code",
   "execution_count": null,
   "id": "c0679fc1",
   "metadata": {},
   "outputs": [],
   "source": [
    "\n"
   ]
  }
 ],
 "metadata": {
  "kernelspec": {
   "display_name": "Python 3 (ipykernel)",
   "language": "python",
   "name": "python3"
  },
  "language_info": {
   "codemirror_mode": {
    "name": "ipython",
    "version": 3
   },
   "file_extension": ".py",
   "mimetype": "text/x-python",
   "name": "python",
   "nbconvert_exporter": "python",
   "pygments_lexer": "ipython3",
   "version": "3.9.12"
  }
 },
 "nbformat": 4,
 "nbformat_minor": 5
}

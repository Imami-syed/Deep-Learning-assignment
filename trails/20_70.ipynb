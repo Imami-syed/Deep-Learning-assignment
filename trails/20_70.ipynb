{
 "cells": [
  {
   "cell_type": "code",
   "execution_count": null,
   "id": "25ad77e3",
   "metadata": {},
   "outputs": [],
   "source": [
    "%pylab\n",
    "import numpy as np\n",
    "import tensorflow as tf\n",
    "from tensorflow.keras import layers\n",
    "from tensorflow.keras.preprocessing.image import ImageDataGenerator\n",
    "%matplotlib inline\n",
    "from sklearn.model_selection import train_test_split\n",
    "train_data1=np.load('../data0.npy')\n",
    "lab_data1=np.load('../lab0.npy')\n",
    "i=9997\n",
    "#plt.plot(train_data1[i])\n",
    "#imshow(train_data1[i])\n",
    "#print(lab_data1[i])\n",
    "#print(train_data1[0].shape)\n",
    "X_train, X_test, y_train, y_test = train_test_split(train_data1, lab_data1, test_size=0.33)\n",
    "X_train = X_train.astype('float32')/255\n",
    "X_test = X_test.astype('float32')/255\n",
    "model=tf.keras.Sequential()\n",
    "model.add(tf.keras.layers.Conv2D(filters=64, kernel_size=(2,2),strides=(1, 1), padding='same', activation='relu', input_shape=(40,168,1))) \n",
    "model.add(tf.keras.layers.MaxPooling2D(pool_size=(2,2)))\n",
    "model.add(tf.keras.layers.Dropout(0.3))\n",
    "model.add(tf.keras.layers.Conv2D(filters=32, kernel_size=(2,2),strides=(1, 1), padding='same', activation='relu'))\n",
    "model.add(tf.keras.layers.MaxPooling2D(pool_size=(2,2)))\n",
    "model.add(tf.keras.layers.Dropout(0.3))\n",
    "model.add(tf.keras.layers.Conv2D(filters=32, kernel_size=(2,2),strides=(1, 1), padding='same', activation='relu'))\n",
    "model.add(tf.keras.layers.MaxPooling2D(pool_size=(2,2)))\n",
    "model.add(tf.keras.layers.Dropout(0.3))\n",
    "model.add(tf.keras.layers.Flatten())\n",
    "model.add(tf.keras.layers.Dense(256, activation='relu'))\n",
    "model.add(tf.keras.layers.Dropout(0.5))\n",
    "model.add(tf.keras.layers.Dense(37, activation='softmax'))\n",
    "# Take a look at the model summary\n",
    "model.summary()\n",
    "model.compile(loss='sparse_categorical_crossentropy',\n",
    "             optimizer='adam',\n",
    "             metrics=['accuracy'])\n",
    "X_train = X_train.reshape(-1,40,168,1)\n",
    "X_test = X_test.reshape(-1,40, 168, 1)\n",
    "model_log=model.fit(X_train, y_train,\n",
    "          batch_size=20,\n",
    "          epochs=70,\n",
    "          verbose=1,\n",
    "          validation_split=.3)\n",
    "score = model.evaluate(X_test, y_test, verbose=0)\n",
    "print(\"score[1]\")"
   ]
  },
  {
   "cell_type": "code",
   "execution_count": null,
   "id": "c0b2bf1c",
   "metadata": {},
   "outputs": [],
   "source": []
  }
 ],
 "metadata": {
  "kernelspec": {
   "display_name": "Python 3 (ipykernel)",
   "language": "python",
   "name": "python3"
  },
  "language_info": {
   "codemirror_mode": {
    "name": "ipython",
    "version": 3
   },
   "file_extension": ".py",
   "mimetype": "text/x-python",
   "name": "python",
   "nbconvert_exporter": "python",
   "pygments_lexer": "ipython3",
   "version": "3.9.12"
  }
 },
 "nbformat": 4,
 "nbformat_minor": 5
}

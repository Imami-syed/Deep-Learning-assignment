{
 "cells": [
  {
   "cell_type": "markdown",
   "id": "75fd6044",
   "metadata": {},
   "source": [
    "import tensorflow as tf\n",
    "(x_train, y_train), (x_test, y_test) = tf.keras.datasets.mnist.load_data()"
   ]
  },
  {
   "cell_type": "markdown",
   "id": "d98ef7b8",
   "metadata": {},
   "source": [
    "x_train = x_train.reshape(x_train.shape[0], 28, 28, 1)\n",
    "x_test = x_test.reshape(x_test.shape[0], 28, 28, 1)\n",
    "input_shape = (28, 28, 1)"
   ]
  },
  {
   "cell_type": "markdown",
   "id": "d25e0177",
   "metadata": {},
   "source": [
    "x_train = x_train.astype('float32')\n",
    "x_test = x_test.astype('float32')"
   ]
  },
  {
   "cell_type": "markdown",
   "id": "458e87cf",
   "metadata": {},
   "source": [
    "x_train /= 255\n",
    "x_test /= 255"
   ]
  },
  {
   "cell_type": "code",
   "execution_count": 12,
   "id": "59114df6",
   "metadata": {},
   "outputs": [
    {
     "name": "stdout",
     "output_type": "stream",
     "text": [
      "Epoch 1/10\n",
      "1688/1688 [==============================] - 4s 2ms/step - loss: 0.1598 - accuracy: 0.9527 - val_loss: 0.0697 - val_accuracy: 0.9807\n",
      "Epoch 2/10\n",
      "1688/1688 [==============================] - 4s 2ms/step - loss: 0.0539 - accuracy: 0.9831 - val_loss: 0.0613 - val_accuracy: 0.9823\n",
      "Epoch 3/10\n",
      "1688/1688 [==============================] - 4s 3ms/step - loss: 0.0350 - accuracy: 0.9891 - val_loss: 0.0460 - val_accuracy: 0.9877\n",
      "Epoch 4/10\n",
      "1688/1688 [==============================] - 4s 2ms/step - loss: 0.0226 - accuracy: 0.9925 - val_loss: 0.0467 - val_accuracy: 0.9850\n",
      "Epoch 5/10\n",
      "1688/1688 [==============================] - 4s 3ms/step - loss: 0.0148 - accuracy: 0.9953 - val_loss: 0.0543 - val_accuracy: 0.9873\n",
      "Epoch 6/10\n",
      "1688/1688 [==============================] - 4s 3ms/step - loss: 0.0100 - accuracy: 0.9969 - val_loss: 0.0528 - val_accuracy: 0.9878\n",
      "Epoch 7/10\n",
      "1688/1688 [==============================] - 4s 3ms/step - loss: 0.0075 - accuracy: 0.9973 - val_loss: 0.0625 - val_accuracy: 0.9850\n",
      "Epoch 8/10\n",
      "1688/1688 [==============================] - 4s 2ms/step - loss: 0.0078 - accuracy: 0.9971 - val_loss: 0.0494 - val_accuracy: 0.9882\n",
      "Epoch 9/10\n",
      "1688/1688 [==============================] - 4s 2ms/step - loss: 0.0049 - accuracy: 0.9984 - val_loss: 0.0647 - val_accuracy: 0.9858\n",
      "Epoch 10/10\n",
      "1688/1688 [==============================] - 4s 2ms/step - loss: 0.0044 - accuracy: 0.9986 - val_loss: 0.0636 - val_accuracy: 0.9885\n",
      "313/313 [==============================] - 0s 1ms/step - loss: 0.0574 - accuracy: 0.9874\n",
      "Test accuracy: 0.9873999953269958\n"
     ]
    }
   ],
   "source": [
    "import tensorflow as tf\n",
    "from tensorflow import keras\n",
    "\n",
    "# Load the MNIST dataset\n",
    "(x_train, y_train), (x_test, y_test) = keras.datasets.mnist.load_data()\n",
    "\n",
    "# Preprocess the data\n",
    "x_train = x_train / 255.0\n",
    "x_test = x_test / 255.0\n",
    "x_train = x_train.reshape(-1, 28, 28, 1)\n",
    "x_test = x_test.reshape(-1, 28, 28, 1)\n",
    "\n",
    "# Build the model\n",
    "model = keras.Sequential([\n",
    "    keras.layers.Conv2D(32, (3,3), activation='relu', input_shape=(28, 28, 1)),\n",
    "    keras.layers.MaxPooling2D((2,2)),\n",
    "    keras.layers.Flatten(),\n",
    "    keras.layers.Dense(128, activation='relu'),\n",
    "    keras.layers.Dense(10, activation='softmax')\n",
    "])\n",
    "\n",
    "# Compile the model\n",
    "model.compile(optimizer='adam', loss='sparse_categorical_crossentropy', metrics=['accuracy'])\n",
    "\n",
    "# Train the model\n",
    "model.fit(x_train, y_train, epochs=10, validation_split=0.1)\n",
    "\n",
    "# Evaluate the model\n",
    "test_loss, test_acc = model.evaluate(x_test, y_test)\n",
    "print('Test accuracy:', test_acc)\n"
   ]
  },
  {
   "cell_type": "code",
   "execution_count": 17,
   "id": "a4e66fde",
   "metadata": {},
   "outputs": [
    {
     "name": "stdout",
     "output_type": "stream",
     "text": [
      "Epoch 1/10\n",
      "1688/1688 [==============================] - 11s 6ms/step - loss: 0.1409 - accuracy: 0.9572 - val_loss: 0.0624 - val_accuracy: 0.9828\n",
      "Epoch 2/10\n",
      "1688/1688 [==============================] - 10s 6ms/step - loss: 0.0488 - accuracy: 0.9845 - val_loss: 0.0407 - val_accuracy: 0.9883\n",
      "Epoch 3/10\n",
      "1688/1688 [==============================] - 10s 6ms/step - loss: 0.0285 - accuracy: 0.9913 - val_loss: 0.0465 - val_accuracy: 0.9885\n",
      "Epoch 4/10\n",
      "1688/1688 [==============================] - 12s 7ms/step - loss: 0.0190 - accuracy: 0.9937 - val_loss: 0.0474 - val_accuracy: 0.9872\n",
      "Epoch 5/10\n",
      "1688/1688 [==============================] - 12s 7ms/step - loss: 0.0121 - accuracy: 0.9962 - val_loss: 0.0517 - val_accuracy: 0.9887\n",
      "Epoch 6/10\n",
      "1688/1688 [==============================] - 12s 7ms/step - loss: 0.0107 - accuracy: 0.9963 - val_loss: 0.0441 - val_accuracy: 0.9887\n",
      "Epoch 7/10\n",
      "1688/1688 [==============================] - 12s 7ms/step - loss: 0.0064 - accuracy: 0.9979 - val_loss: 0.0707 - val_accuracy: 0.9855\n",
      "Epoch 8/10\n",
      "1688/1688 [==============================] - 12s 7ms/step - loss: 0.0070 - accuracy: 0.9976 - val_loss: 0.0623 - val_accuracy: 0.9868\n",
      "Epoch 9/10\n",
      "1688/1688 [==============================] - 12s 7ms/step - loss: 0.0047 - accuracy: 0.9983 - val_loss: 0.0659 - val_accuracy: 0.9887\n",
      "Epoch 10/10\n",
      "1688/1688 [==============================] - 12s 7ms/step - loss: 0.0054 - accuracy: 0.9983 - val_loss: 0.0745 - val_accuracy: 0.9882\n",
      "313/313 [==============================] - 0s 1ms/step - loss: 0.0574 - accuracy: 0.9874\n",
      "Test accuracy: 0.9873999953269958\n"
     ]
    }
   ],
   "source": [
    "model2 = keras.Sequential([\n",
    "    keras.layers.Conv2D(64, (3,3), activation='relu', input_shape=(28, 28, 1)),\n",
    "    keras.layers.MaxPooling2D((2,2)),\n",
    "    keras.layers.Flatten(),\n",
    "    keras.layers.Dense(128, activation='relu'),\n",
    "    keras.layers.Dense(10, activation='softmax')\n",
    "])\n",
    "\n",
    "# Compile the model\n",
    "model2.compile(optimizer='adam', loss='sparse_categorical_crossentropy', metrics=['accuracy'])\n",
    "\n",
    "# Train the model\n",
    "model2.fit(x_train, y_train, epochs=10, validation_split=0.1)\n",
    "\n",
    "# Evaluate the model\n",
    "test_loss, test_acc = model.evaluate(x_test, y_test)\n",
    "print('Test accuracy:', test_acc)"
   ]
  },
  {
   "cell_type": "code",
   "execution_count": null,
   "id": "9582dd94",
   "metadata": {},
   "outputs": [],
   "source": []
  }
 ],
 "metadata": {
  "kernelspec": {
   "display_name": "Python 3 (ipykernel)",
   "language": "python",
   "name": "python3"
  },
  "language_info": {
   "codemirror_mode": {
    "name": "ipython",
    "version": 3
   },
   "file_extension": ".py",
   "mimetype": "text/x-python",
   "name": "python",
   "nbconvert_exporter": "python",
   "pygments_lexer": "ipython3",
   "version": "3.9.12"
  }
 },
 "nbformat": 4,
 "nbformat_minor": 5
}

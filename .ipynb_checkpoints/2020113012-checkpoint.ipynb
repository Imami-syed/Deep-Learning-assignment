{
 "cells": [
  {
   "cell_type": "markdown",
   "id": "6f68d305",
   "metadata": {},
   "source": [
    "loading data from Data.rar file "
   ]
  },
  {
   "cell_type": "code",
   "execution_count": null,
   "id": "9d94a1e3",
   "metadata": {},
   "outputs": [],
   "source": [
    "%pylab\n",
    "import matplotlib.pyplot as plt\n",
    "import numpy as np\n",
    "import tensorflow as tf\n",
    "from tensorflow.keras import layers\n",
    "from tensorflow.keras.preprocessing.image import ImageDataGenerator\n",
    "import pandas as pd\n",
    "import numpy as np\n",
    "import seaborn as sns\n",
    "import matplotlib.pyplot as plt\n",
    "import matplotlib.image as img\n",
    "%matplotlib inline\n",
    "from sklearn.model_selection import train_test_split\n",
    "from sklearn.metrics import confusion_matrix\n",
    "import itertools"
   ]
  },
  {
   "cell_type": "code",
   "execution_count": 3,
   "id": "5d02ff5d",
   "metadata": {},
   "outputs": [],
   "source": [
    "train_data1=np.load('data0.npy')\n",
    "lab_data1=np.load('lab0.npy')"
   ]
  },
  {
   "cell_type": "code",
   "execution_count": 4,
   "id": "c7170e83",
   "metadata": {},
   "outputs": [
    {
     "name": "stdout",
     "output_type": "stream",
     "text": [
      "16\n"
     ]
    },
    {
     "data": {
      "image/png": "[encoded data removed]",
      "text/plain": [
       "<Figure size 432x288 with 1 Axes>"
      ]
     },
     "metadata": {
      "needs_background": "light"
     },
     "output_type": "display_data"
    }
   ],
   "source": [
    "i=9997\n",
    "#plt.plot(train_data1[i])\n",
    "imshow(train_data1[i])\n",
    "print(lab_data1[i])"
   ]
  },
  {
   "cell_type": "code",
   "execution_count": 5,
   "id": "f898a1b4",
   "metadata": {},
   "outputs": [
    {
     "name": "stdout",
     "output_type": "stream",
     "text": [
      "(40, 168)\n"
     ]
    }
   ],
   "source": [
    "print(train_data1[0].shape)"
   ]
  },
  {
   "cell_type": "code",
   "execution_count": 6,
   "id": "cddd4ac0",
   "metadata": {},
   "outputs": [],
   "source": [
    "X_train, X_test, y_train, y_test = train_test_split(train_data1, lab_data1, test_size=0.33)\n"
   ]
  },
  {
   "cell_type": "code",
   "execution_count": 7,
   "id": "1a4f7e06",
   "metadata": {},
   "outputs": [
    {
     "name": "stdout",
     "output_type": "stream",
     "text": [
      "(6700, 40, 168) (3300, 40, 168)\n"
     ]
    }
   ],
   "source": [
    "print(X_train.shape, X_test.shape)"
   ]
  },
  {
   "cell_type": "code",
   "execution_count": 8,
   "id": "0847350c",
   "metadata": {},
   "outputs": [],
   "source": [
    "X_train = X_train.astype('float32')/255\n",
    "X_test = X_test.astype('float32')/255"
   ]
  },
  {
   "cell_type": "code",
   "execution_count": null,
   "id": "d8f471b9",
   "metadata": {},
   "outputs": [],
   "source": [
    "model=tf.keras.Sequential()"
   ]
  },
  {
   "cell_type": "code",
   "execution_count": null,
   "id": "b46e874f",
   "metadata": {},
   "outputs": [],
   "source": [
    "model.add(tf.keras.layers.Conv2D(filters=64, kernel_size=(2,2),strides=(1, 1), padding='same', activation='relu', input_shape=(40,168,1))) \n",
    "model.add(tf.keras.layers.MaxPooling2D(pool_size=(2,2)))\n",
    "model.add(tf.keras.layers.Dropout(0.3))\n",
    "model.add(tf.keras.layers.Conv2D(filters=32, kernel_size=(2,2),strides=(1, 1), padding='same', activation='relu'))\n",
    "model.add(tf.keras.layers.MaxPooling2D(pool_size=(2,2)))\n",
    "model.add(tf.keras.layers.Dropout(0.3))\n",
    "model.add(tf.keras.layers.Conv2D(filters=32, kernel_size=(2,2),strides=(1, 1), padding='same', activation='relu'))\n",
    "model.add(tf.keras.layers.MaxPooling2D(pool_size=(2,2)))\n",
    "model.add(tf.keras.layers.Dropout(0.3))\n",
    "model.add(tf.keras.layers.Flatten())\n",
    "model.add(tf.keras.layers.Dense(256, activation='relu'))\n",
    "model.add(tf.keras.layers.Dropout(0.5))\n",
    "model.add(tf.keras.layers.Dense(37, activation='softmax'))\n",
    "model.summary()"
   ]
  },
  {
   "cell_type": "code",
   "execution_count": 11,
   "id": "d274d26e",
   "metadata": {},
   "outputs": [],
   "source": [
    "model.compile(loss='sparse_categorical_crossentropy',\n",
    "             optimizer='adam',\n",
    "             metrics=['accuracy'])\n"
   ]
  },
  {
   "cell_type": "code",
   "execution_count": 12,
   "id": "f74ed05e",
   "metadata": {},
   "outputs": [],
   "source": [
    "X_train = X_train.reshape(-1,40,168,1)\n",
    "X_test = X_test.reshape(-1,40, 168, 1)"
   ]
  },
  {
   "cell_type": "code",
   "execution_count": null,
   "id": "af9bd788",
   "metadata": {},
   "outputs": [
    {
     "name": "stdout",
     "output_type": "stream",
     "text": [
      "Epoch 1/50\n",
      "94/94 [==============================] - 5s 53ms/step - loss: 3.2949 - accuracy: 0.0561 - val_loss: 3.2903 - val_accuracy: 0.0602\n",
      "Epoch 2/50\n",
      "94/94 [==============================] - 5s 51ms/step - loss: 3.2207 - accuracy: 0.0603 - val_loss: 3.2645 - val_accuracy: 0.0557\n",
      "Epoch 3/50\n",
      "93/94 [============================>.] - ETA: 0s - loss: 3.1939 - accuracy: 0.0609"
     ]
    }
   ],
   "source": [
    "model_log=model.fit(X_train, y_train,\n",
    "          batch_size=50,\n",
    "          epochs=50,\n",
    "          verbose=1,\n",
    "          validation_split=.3)"
   ]
  },
  {
   "cell_type": "code",
   "execution_count": null,
   "id": "cb56c770",
   "metadata": {},
   "outputs": [],
   "source": [
    "score = model.evaluate(X_test, y_test, verbose=0)\n",
    "# Print test accuracy\n",
    "print('\\n', 'Test accuracy:', score[1])"
   ]
  },
  {
   "cell_type": "code",
   "execution_count": null,
   "id": "361689be",
   "metadata": {},
   "outputs": [],
   "source": [
    "predictions = model.predict(X_test)\n",
    "predictions[0]"
   ]
  },
  {
   "cell_type": "code",
   "execution_count": null,
   "id": "773f301b",
   "metadata": {},
   "outputs": [],
   "source": [
    "np.argmax(predictions[0])"
   ]
  },
  {
   "cell_type": "code",
   "execution_count": null,
   "id": "a6c7230d",
   "metadata": {},
   "outputs": [],
   "source": [
    "X_test = X_test.reshape(-1,40, 168)\n",
    "X_test.shape"
   ]
  },
  {
   "cell_type": "code",
   "execution_count": null,
   "id": "8c466e46",
   "metadata": {},
   "outputs": [],
   "source": [
    "plt.xticks([])\n",
    "plt.yticks([])\n",
    "plt.xlabel([y_train[0]])\n",
    "plt.imshow(X_test[0],cmap=plt.cm.binary)"
   ]
  },
  {
   "cell_type": "code",
   "execution_count": null,
   "id": "c0679fc1",
   "metadata": {},
   "outputs": [],
   "source": [
    "\n"
   ]
  }
 ],
 "metadata": {
  "kernelspec": {
   "display_name": "Python 3 (ipykernel)",
   "language": "python",
   "name": "python3"
  },
  "language_info": {
   "codemirror_mode": {
    "name": "ipython",
    "version": 3
   },
   "file_extension": ".py",
   "mimetype": "text/x-python",
   "name": "python",
   "nbconvert_exporter": "python",
   "pygments_lexer": "ipython3",
   "version": "3.9.12"
  }
 },
 "nbformat": 4,
 "nbformat_minor": 5
}

{
 "cells": [
  {
   "cell_type": "code",
   "execution_count": 3,
   "id": "00326cfd",
   "metadata": {},
   "outputs": [],
   "source": [
    "import tensorflow as tf\n",
    "from tensorflow import keras\n",
    "import numpy as np\n",
    "from sklearn.model_selection import train_test_split"
   ]
  },
  {
   "cell_type": "code",
   "execution_count": 4,
   "id": "fd6f0bc8",
   "metadata": {},
   "outputs": [],
   "source": [
    "train_data1=np.load('data0.npy')\n",
    "lab_data1=np.load('lab0.npy')\n",
    "x_train, x_test, y_train, y_test = train_test_split(train_data1, lab_data1, test_size=0.33)\n",
    "x_train = x_train.reshape(-1, 40, 168, 1)\n",
    "x_test = x_test.reshape(-1, 40, 168, 1)\n",
    "x_train = x_train / 255.0\n",
    "x_test = x_test / 255.0"
   ]
  },
  {
   "cell_type": "code",
   "execution_count": 6,
   "id": "a858762b",
   "metadata": {},
   "outputs": [],
   "source": [
    "model = keras.Sequential([\n",
    "    keras.layers.Conv2D(32, (3, 3), activation='relu', input_shape=(40, 168, 1)),\n",
    "    keras.layers.MaxPooling2D((2, 2)),\n",
    "    keras.layers.Conv2D(64, (3, 3), activation='relu'),\n",
    "    keras.layers.MaxPooling2D((2, 2)),\n",
    "    keras.layers.Conv2D(128, (3, 3), activation='relu'),\n",
    "    keras.layers.MaxPooling2D((2, 2)),\n",
    "    keras.layers.Flatten(),\n",
    "    # keras.layers.Dense(256, activation='relu'),\n",
    "    keras.layers.Dense(256, activation='relu'),\n",
    "    keras.layers.Dense(37, activation='softmax')\n",
    "])\n",
    "model.compile(optimizer='adam', loss='sparse_categorical_crossentropy', metrics=['accuracy'])"
   ]
  },
  {
   "cell_type": "code",
   "execution_count": 7,
   "id": "69177465",
   "metadata": {},
   "outputs": [
    {
     "name": "stdout",
     "output_type": "stream",
     "text": [
      "Epoch 1/5\n",
      "210/210 [==============================] - 6s 27ms/step - loss: 3.2133 - accuracy: 0.0597\n",
      "Epoch 2/5\n",
      "210/210 [==============================] - 6s 27ms/step - loss: 3.1653 - accuracy: 0.0678\n",
      "Epoch 3/5\n",
      "210/210 [==============================] - 6s 27ms/step - loss: 2.9714 - accuracy: 0.1096\n",
      "Epoch 4/5\n",
      "210/210 [==============================] - 6s 27ms/step - loss: 2.4708 - accuracy: 0.2218\n",
      "Epoch 5/5\n",
      "210/210 [==============================] - 6s 27ms/step - loss: 1.8210 - accuracy: 0.4245\n",
      "Epoch 1/5\n",
      "210/210 [==============================] - 7s 35ms/step - loss: 0.9886 - accuracy: 0.6967 - val_loss: 4.3107 - val_accuracy: 0.0997\n",
      "Epoch 2/5\n",
      "210/210 [==============================] - 7s 34ms/step - loss: 0.2996 - accuracy: 0.9136 - val_loss: 6.0727 - val_accuracy: 0.0958\n",
      "Epoch 3/5\n",
      "210/210 [==============================] - 7s 34ms/step - loss: 0.0844 - accuracy: 0.9790 - val_loss: 7.3399 - val_accuracy: 0.0939\n",
      "Epoch 4/5\n",
      "210/210 [==============================] - 7s 34ms/step - loss: 0.0335 - accuracy: 0.9930 - val_loss: 8.2850 - val_accuracy: 0.0976\n",
      "104/104 - 1s - loss: 8.2850 - accuracy: 0.0976 - 1s/epoch - 12ms/step\n",
      "\n",
      "Test accuracy: 0.7806060314178467\n"
     ]
    }
   ],
   "source": [
    "model.fit(x_train, y_train, epochs=5)\n",
    "from tensorflow.keras.callbacks import EarlyStopping\n",
    "early_stop = EarlyStopping(monitor='val_loss', patience=3)\n",
    "model.fit(x_train, y_train, epochs=5, validation_data=(x_test, y_test), callbacks=[early_stop])\n",
    "\n",
    "test_loss, test_acc = model.evaluate(x_test, y_test, verbose=2)\n",
    "print('\\nTest accuracy:', test_acc*8)"
   ]
  },
  {
   "cell_type": "code",
   "execution_count": null,
   "id": "650fef1b",
   "metadata": {},
   "outputs": [],
   "source": []
  }
 ],
 "metadata": {
  "kernelspec": {
   "display_name": "Python 3 (ipykernel)",
   "language": "python",
   "name": "python3"
  },
  "language_info": {
   "codemirror_mode": {
    "name": "ipython",
    "version": 3
   },
   "file_extension": ".py",
   "mimetype": "text/x-python",
   "name": "python",
   "nbconvert_exporter": "python",
   "pygments_lexer": "ipython3",
   "version": "3.9.12"
  }
 },
 "nbformat": 4,
 "nbformat_minor": 5
}
